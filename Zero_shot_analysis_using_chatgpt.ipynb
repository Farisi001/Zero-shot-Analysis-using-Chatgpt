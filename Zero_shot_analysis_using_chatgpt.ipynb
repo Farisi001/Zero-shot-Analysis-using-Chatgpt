{
 "cells": [
  {
   "cell_type": "markdown",
   "id": "684be446",
   "metadata": {},
   "source": [
    "## Import"
   ]
  },
  {
   "cell_type": "code",
   "execution_count": 1,
   "id": "b53d08e8",
   "metadata": {},
   "outputs": [],
   "source": [
    "#importing the openAI module\n",
    "#importing the OS module\n",
    "import openai\n",
    "import os"
   ]
  },
  {
   "cell_type": "markdown",
   "id": "cd0704a3",
   "metadata": {},
   "source": [
    "## API Key"
   ]
  },
  {
   "cell_type": "code",
   "execution_count": 9,
   "id": "e0b0783e",
   "metadata": {},
   "outputs": [
    {
     "name": "stdout",
     "output_type": "stream",
     "text": [
      "Paste your API key: ········\n"
     ]
    }
   ],
   "source": [
    "#importing the getpass module to securely retrieve the API key\n",
    "import getpass\n",
    "#prompting the user to paste their API key securely\n",
    "key = getpass.getpass('Paste your API key: ')\n",
    "#setting the API key for the OpenAI module\n",
    "openai.api_key = key"
   ]
  },
  {
   "cell_type": "markdown",
   "id": "4d2acb3d",
   "metadata": {},
   "source": [
    "## Function to classify sentiment based on user input using GPT-3.5 Turbo"
   ]
  },
  {
   "cell_type": "code",
   "execution_count": 10,
   "id": "4876c846",
   "metadata": {},
   "outputs": [],
   "source": [
    "#function to classify sentiment based on user input using GPT-3.5 Turbo\n",
    "def gpt_classify_sentiment(prompt, emotions):\n",
    "    #system prompt providing instructions to the emotionally intelligent assistant\n",
    "    system_prompt = f'''You are an emotionally intelligent assistant.\n",
    "    classify the sentiment of the user's text with ONLY ONE OF THE\n",
    "    FOLLOWING EMOTIONS: {emotions}. After classifying the text, respond with the emotion only '''\n",
    "    #generating a response using the OpenAI Chat Completion API\n",
    "    response = openai.ChatCompletion.create(\n",
    "        model='gpt-3.5-turbo',\n",
    "        messages=[\n",
    "            {'role':'system', 'content': system_prompt},\n",
    "            {'role': 'user', 'content': prompt}\n",
    "        ],\n",
    "        max_tokens=20,\n",
    "        temperature=0\n",
    "    )\n",
    "    #extracting the content of the generated response\n",
    "    r = response['choices'][0].message.content\n",
    "    #handling the case when the sentiment classification is not available\n",
    "    if r == 'r':\n",
    "        r = 'N/A'\n",
    "    #returning the classified sentiment\n",
    "    return r"
   ]
  },
  {
   "cell_type": "code",
   "execution_count": 11,
   "id": "80face98",
   "metadata": {},
   "outputs": [],
   "source": [
    "#classifying the sentiment of the user's text using GPT-3.5 Turbo model\n",
    "emotions = 'Positive, Negative'\n",
    "prompt = 'AI will take over the world.'"
   ]
  },
  {
   "cell_type": "code",
   "execution_count": 12,
   "id": "fd7e26ce",
   "metadata": {},
   "outputs": [
    {
     "name": "stdout",
     "output_type": "stream",
     "text": [
      "Negative.\n"
     ]
    }
   ],
   "source": [
    "#output\n",
    "print(gpt_classify_sentiment(prompt,emotions))"
   ]
  },
  {
   "cell_type": "markdown",
   "id": "853749fb",
   "metadata": {},
   "source": [
    "## Twitter API"
   ]
  },
  {
   "cell_type": "code",
   "execution_count": 8,
   "id": "ab09ef25",
   "metadata": {},
   "outputs": [
    {
     "name": "stdout",
     "output_type": "stream",
     "text": [
      "Collecting tweepy\n",
      "  Downloading tweepy-4.14.0-py3-none-any.whl (98 kB)\n",
      "\u001b[2K     \u001b[90m━━━━━━━━━━━━━━━━━━━━━━━━━━━━━━━━━━━━━━━\u001b[0m \u001b[32m98.5/98.5 kB\u001b[0m \u001b[31m193.7 kB/s\u001b[0m eta \u001b[36m0:00:00\u001b[0ma \u001b[36m0:00:01\u001b[0m\n",
      "\u001b[?25hRequirement already satisfied: requests<3,>=2.27.0 in /Users/salman/opt/anaconda3/envs/udacity/lib/python3.10/site-packages (from tweepy) (2.28.1)\n",
      "Collecting oauthlib<4,>=3.2.0\n",
      "  Downloading oauthlib-3.2.2-py3-none-any.whl (151 kB)\n",
      "\u001b[2K     \u001b[90m━━━━━━━━━━━━━━━━━━━━━━━━━━━━━━━━━━━━━━\u001b[0m \u001b[32m151.7/151.7 kB\u001b[0m \u001b[31m33.7 kB/s\u001b[0m eta \u001b[36m0:00:00\u001b[0ma \u001b[36m0:00:01\u001b[0m\n",
      "\u001b[?25hCollecting requests-oauthlib<2,>=1.2.0\n",
      "  Using cached requests_oauthlib-1.3.1-py2.py3-none-any.whl (23 kB)\n",
      "Requirement already satisfied: idna<4,>=2.5 in /Users/salman/opt/anaconda3/envs/udacity/lib/python3.10/site-packages (from requests<3,>=2.27.0->tweepy) (3.4)\n",
      "Requirement already satisfied: charset-normalizer<3,>=2 in /Users/salman/opt/anaconda3/envs/udacity/lib/python3.10/site-packages (from requests<3,>=2.27.0->tweepy) (2.0.4)\n",
      "Requirement already satisfied: certifi>=2017.4.17 in /Users/salman/opt/anaconda3/envs/udacity/lib/python3.10/site-packages (from requests<3,>=2.27.0->tweepy) (2022.12.7)\n",
      "Requirement already satisfied: urllib3<1.27,>=1.21.1 in /Users/salman/opt/anaconda3/envs/udacity/lib/python3.10/site-packages (from requests<3,>=2.27.0->tweepy) (1.26.14)\n",
      "Installing collected packages: oauthlib, requests-oauthlib, tweepy\n",
      "Successfully installed oauthlib-3.2.2 requests-oauthlib-1.3.1 tweepy-4.14.0\n",
      "Note: you may need to restart the kernel to use updated packages.\n"
     ]
    }
   ],
   "source": [
    "#install tweepy package\n",
    "pip install tweepy"
   ]
  },
  {
   "cell_type": "code",
   "execution_count": 13,
   "id": "9cafb4a2",
   "metadata": {},
   "outputs": [],
   "source": [
    "import tweepy\n",
    "# Set up Twitter API credentials\n",
    "consumer_key = \"\"\n",
    "consumer_secret = \"\"\n",
    "access_token = \"\"\n",
    "access_token_secret = \"\""
   ]
  },
  {
   "cell_type": "code",
   "execution_count": 14,
   "id": "ed0f197e",
   "metadata": {},
   "outputs": [],
   "source": [
    "# Authentication\n",
    "auth = tweepy.OAuthHandler(consumer_key, consumer_secret)\n",
    "auth.set_access_token(access_token, access_token_secret)\n",
    "api = tweepy.API(auth, wait_on_rate_limit=True)"
   ]
  },
  {
   "cell_type": "code",
   "execution_count": 15,
   "id": "7e134981",
   "metadata": {},
   "outputs": [],
   "source": [
    "#creating a client object for the Tweepy library with the provided bearer token\n",
    "client = tweepy.Client(bearer_token= '', wait_on_rate_limit=True)"
   ]
  },
  {
   "cell_type": "code",
   "execution_count": 16,
   "id": "624fff23",
   "metadata": {},
   "outputs": [],
   "source": [
    "#function to classify sentiment of a tweet using the GPT-3 model\n",
    "def gpt_classify_sentiment(tweet_text, emotions):\n",
    "    #system prompt instructing the emotionally intelligent assistant\n",
    "    system_prompt = f'''You are an emotionally intelligent assistant.\n",
    "    classify the sentiment of the user's text with ONLY ONE OF THE\n",
    "    FOLLOWING EMOTIONS: {emotions}. After classifying the text, respond with the emotion only '''\n",
    "    #generating a response using the OpenAI Completion API\n",
    "    response = openai.Completion.create(\n",
    "        model='text-davinci-002',\n",
    "        prompt=f\"{system_prompt}\\nUser tweet: {tweet_text}\\nEmotions: {emotions}\\n\",\n",
    "        temperature=0,\n",
    "        max_tokens=20,\n",
    "        top_p=1,\n",
    "        frequency_penalty=0,\n",
    "        presence_penalty=0\n",
    "    )\n",
    "    #extracting the sentiment from the generated response\n",
    "    r = response.choices[0].text.strip().split(\":\")[-1].strip()\n",
    "    #handling the case when sentiment classification is not available\n",
    "    if r == 'r':\n",
    "        r = 'N/A'\n",
    "    return r\n",
    "\n",
    "# Define the emotions to classify\n",
    "emotions = \"positive, negative, neutral\""
   ]
  },
  {
   "cell_type": "code",
   "execution_count": 22,
   "id": "454c93b4",
   "metadata": {},
   "outputs": [],
   "source": [
    "#define the query to search for recent tweets\n",
    "query = '#openai'\n",
    "#use the Tweepy client to search for recent tweets based on the query\n",
    "response = client.search_recent_tweets(query=query, max_results=10)"
   ]
  },
  {
   "cell_type": "code",
   "execution_count": 23,
   "id": "4460953c",
   "metadata": {
    "scrolled": true
   },
   "outputs": [
    {
     "name": "stdout",
     "output_type": "stream",
     "text": [
      "Response(data=[<Tweet id=1665645846220750850 text='SCAM ALERT from Elijah at @MyChargeBack! #OpenAI CTO Mira Murati had her #Twitter account hacked for an #Airdrop #scam! \\nhttps://t.co/SkX4hr5y6o #Cryptoscam #Cryptocurrency #CryptoUpdate #CryptoNews #CryptocurrencyNews #Phishing #Crypto #NFTCommunity #NFTs #ScamAlert #Airdrops'>, <Tweet id=1665645490732683265 text='RT @mvollmer1: A Short History Of #ChatGPT: How We Got To Where We Are Today\\n\\nChatGPT is an #ArtificialIntelligence #AI #chatbot built on t…'>, <Tweet id=1665645248012320769 text='RT @NoNationState: Welcome To @aihumans_pro . \\n\\nAI Human Generator connects two massive technologies -\\nArtificial intelligence #AI &amp; Metave…'>, <Tweet id=1665644667000725504 text='OpenAI chief Sam Altman to visit India this week #Openai #SamAltman #India #Nasscom #Internet #Qatar #SouthKorea #Jordan #SamAltmanInIndia  https://t.co/qijcPzPbQX'>, <Tweet id=1665644658817634304 text='OpenAI chief Sam Altman to visit India this week #Openai #SamAltman #India #Nasscom #Internet #Qatar #SouthKorea #Jordan #SamAltmanInIndia  https://t.co/u5ja8h5uUz'>, <Tweet id=1665644642316976131 text='Noun: cent\\n\\nA cent is a tiny little creature that lives in your pocket and loves to steal your change!\\n\\n #technology #innovation #chatGPT #openai #programming'>, <Tweet id=1665644640312393730 text='Training a Language Model: How ChatGPT became so smart - INDIAai #chatgpt #AI #openAI https://t.co/tQsG64gaRg'>, <Tweet id=1665644638986981377 text='Open AI\\n تقدم عشر منح بقيمة مليون دولار لأفكار حول ادارة الذكاء الاصطناعي\\n#الذكاء_الاصطناعي #تطوير #AI #OpenAI #fifreedomtoday https://t.co/hQu3yTbqZo'>, <Tweet id=1665644532841476096 text='ChatGPT｜アテナAI @ParthenonThe #note #ChatGPT #OpenAI  https://t.co/IYT38jJLqD'>, <Tweet id=1665643519128764417 text='RT @aiinstituteuk: AI WORLD CONGRESS 2023!\\nhttps://t.co/eBvm4xZtjs\\nJune 28-29. London. Book Now!\\nhttps://t.co/eBvm4xZtjs \\n\\n#artificialintel…'>], includes={}, errors=[], meta={'newest_id': '1665645846220750850', 'oldest_id': '1665643519128764417', 'result_count': 10, 'next_token': 'b26v89c19zqg8o3fqkj0bvt8zgvvelakmpm332rb8i6wt'})\n"
     ]
    }
   ],
   "source": [
    "print(response)"
   ]
  },
  {
   "cell_type": "code",
   "execution_count": 24,
   "id": "bdfb565a",
   "metadata": {},
   "outputs": [
    {
     "name": "stdout",
     "output_type": "stream",
     "text": [
      "SCAM ALERT from Elijah at @MyChargeBack! #OpenAI CTO Mira Murati had her #Twitter account hacked for an #Airdrop #scam! \n",
      "https://t.co/SkX4hr5y6o #Cryptoscam #Cryptocurrency #CryptoUpdate #CryptoNews #CryptocurrencyNews #Phishing #Crypto #NFTCommunity #NFTs #ScamAlert #Airdrops\n",
      "RT @mvollmer1: A Short History Of #ChatGPT: How We Got To Where We Are Today\n",
      "\n",
      "ChatGPT is an #ArtificialIntelligence #AI #chatbot built on t…\n",
      "RT @NoNationState: Welcome To @aihumans_pro . \n",
      "\n",
      "AI Human Generator connects two massive technologies -\n",
      "Artificial intelligence #AI &amp; Metave…\n",
      "OpenAI chief Sam Altman to visit India this week #Openai #SamAltman #India #Nasscom #Internet #Qatar #SouthKorea #Jordan #SamAltmanInIndia  https://t.co/qijcPzPbQX\n",
      "OpenAI chief Sam Altman to visit India this week #Openai #SamAltman #India #Nasscom #Internet #Qatar #SouthKorea #Jordan #SamAltmanInIndia  https://t.co/u5ja8h5uUz\n",
      "Noun: cent\n",
      "\n",
      "A cent is a tiny little creature that lives in your pocket and loves to steal your change!\n",
      "\n",
      " #technology #innovation #chatGPT #openai #programming\n",
      "Training a Language Model: How ChatGPT became so smart - INDIAai #chatgpt #AI #openAI https://t.co/tQsG64gaRg\n",
      "Open AI\n",
      " تقدم عشر منح بقيمة مليون دولار لأفكار حول ادارة الذكاء الاصطناعي\n",
      "#الذكاء_الاصطناعي #تطوير #AI #OpenAI #fifreedomtoday https://t.co/hQu3yTbqZo\n",
      "ChatGPT｜アテナAI @ParthenonThe #note #ChatGPT #OpenAI  https://t.co/IYT38jJLqD\n",
      "RT @aiinstituteuk: AI WORLD CONGRESS 2023!\n",
      "https://t.co/eBvm4xZtjs\n",
      "June 28-29. London. Book Now!\n",
      "https://t.co/eBvm4xZtjs \n",
      "\n",
      "#artificialintel…\n"
     ]
    }
   ],
   "source": [
    "#accessing the data from the response\n",
    "response_data = response.data\n",
    "\n",
    "#iterating over each tweet in the response data\n",
    "for tweet in response_data:\n",
    "    #extracting the text of the tweet\n",
    "    tweet_text = tweet.text\n",
    "    #printing the text of the tweet\n",
    "    print(tweet_text)"
   ]
  },
  {
   "cell_type": "code",
   "execution_count": 25,
   "id": "74ae7c48",
   "metadata": {},
   "outputs": [
    {
     "name": "stdout",
     "output_type": "stream",
     "text": [
      "Tweet text: SCAM ALERT from Elijah at @MyChargeBack! #OpenAI CTO Mira Murati had her #Twitter account hacked for an #Airdrop #scam! \n",
      "https://t.co/SkX4hr5y6o #Cryptoscam #Cryptocurrency #CryptoUpdate #CryptoNews #CryptocurrencyNews #Phishing #Crypto #NFTCommunity #NFTs #ScamAlert #Airdrops\n",
      "Sentiment: negative\n",
      "\n",
      "Tweet text: RT @mvollmer1: A Short History Of #ChatGPT: How We Got To Where We Are Today\n",
      "\n",
      "ChatGPT is an #ArtificialIntelligence #AI #chatbot built on t…\n",
      "Sentiment: positive\n",
      "\n",
      "Tweet text: RT @NoNationState: Welcome To @aihumans_pro . \n",
      "\n",
      "AI Human Generator connects two massive technologies -\n",
      "Artificial intelligence #AI &amp; Metave…\n",
      "Sentiment: positive\n",
      "\n",
      "Tweet text: OpenAI chief Sam Altman to visit India this week #Openai #SamAltman #India #Nasscom #Internet #Qatar #SouthKorea #Jordan #SamAltmanInIndia  https://t.co/qijcPzPbQX\n",
      "Sentiment: positive\n",
      "\n",
      "Tweet text: OpenAI chief Sam Altman to visit India this week #Openai #SamAltman #India #Nasscom #Internet #Qatar #SouthKorea #Jordan #SamAltmanInIndia  https://t.co/u5ja8h5uUz\n",
      "Sentiment: positive\n",
      "\n",
      "Tweet text: Noun: cent\n",
      "\n",
      "A cent is a tiny little creature that lives in your pocket and loves to steal your change!\n",
      "\n",
      " #technology #innovation #chatGPT #openai #programming\n",
      "Sentiment: positive\n",
      "\n",
      "Tweet text: Training a Language Model: How ChatGPT became so smart - INDIAai #chatgpt #AI #openAI https://t.co/tQsG64gaRg\n",
      "Sentiment: positive\n",
      "\n",
      "Tweet text: Open AI\n",
      " تقدم عشر منح بقيمة مليون دولار لأفكار حول ادارة الذكاء الاصطناعي\n",
      "#الذكاء_الاصطناعي #تطوير #AI #OpenAI #fifreedomtoday https://t.co/hQu3yTbqZo\n",
      "Sentiment: positive\n",
      "\n",
      "Tweet text: ChatGPT｜アテナAI @ParthenonThe #note #ChatGPT #OpenAI  https://t.co/IYT38jJLqD\n",
      "Sentiment: positive\n",
      "\n",
      "Tweet text: RT @aiinstituteuk: AI WORLD CONGRESS 2023!\n",
      "https://t.co/eBvm4xZtjs\n",
      "June 28-29. London. Book Now!\n",
      "https://t.co/eBvm4xZtjs \n",
      "\n",
      "#artificialintel…\n",
      "Sentiment: positive\n",
      "\n"
     ]
    }
   ],
   "source": [
    "#iterating over each tweet in the response data\n",
    "for tweet in response_data:\n",
    "    #extracting the text of the tweet\n",
    "    tweet_text = tweet.text\n",
    "    #classifying the sentiment of the tweet using the gpt_classify_sentiment function\n",
    "    sentiment = gpt_classify_sentiment(tweet_text, emotions)\n",
    "    #printing the tweet text and its classified sentiment\n",
    "    print(f\"Tweet text: {tweet_text}\\nSentiment: {sentiment}\\n\")"
   ]
  },
  {
   "cell_type": "code",
   "execution_count": null,
   "id": "23d5ee75",
   "metadata": {},
   "outputs": [],
   "source": []
  },
  {
   "cell_type": "code",
   "execution_count": null,
   "id": "854a4764",
   "metadata": {},
   "outputs": [],
   "source": []
  }
 ],
 "metadata": {
  "kernelspec": {
   "display_name": "Python [conda env:udacity]",
   "language": "python",
   "name": "conda-env-udacity-py"
  },
  "language_info": {
   "codemirror_mode": {
    "name": "ipython",
    "version": 3
   },
   "file_extension": ".py",
   "mimetype": "text/x-python",
   "name": "python",
   "nbconvert_exporter": "python",
   "pygments_lexer": "ipython3",
   "version": "3.10.9"
  }
 },
 "nbformat": 4,
 "nbformat_minor": 5
}
